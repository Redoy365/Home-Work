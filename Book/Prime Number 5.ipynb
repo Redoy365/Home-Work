{
 "cells": [
  {
   "cell_type": "code",
   "execution_count": 24,
   "id": "6974420a",
   "metadata": {},
   "outputs": [],
   "source": [
    "list1  = [4,6,9,3,5]\n",
    "\n",
    "list2=[]\n",
    "for element in list1:\n",
    "    if element%2==0:\n",
    "        index_element = list1.index(element)\n",
    "        list2.append(element)\n",
    "        list1[index_element]=element**2\n",
    "    else:\n",
    "        index_element = list1.index(element)\n",
    "        list1[index_element]=element*2"
   ]
  },
  {
   "cell_type": "code",
   "execution_count": 51,
   "id": "b72e9d15",
   "metadata": {},
   "outputs": [
    {
     "name": "stdout",
     "output_type": "stream",
     "text": [
      "25\n"
     ]
    }
   ],
   "source": [
    "square()"
   ]
  },
  {
   "cell_type": "code",
   "execution_count": 50,
   "id": "d6e08a1b",
   "metadata": {},
   "outputs": [
    {
     "name": "stdout",
     "output_type": "stream",
     "text": [
      "16\n",
      "36\n",
      "18\n",
      "6\n",
      "10\n"
     ]
    }
   ],
   "source": [
    "list1  = [4,6,9,3,5]\n",
    "\n",
    "for index in range(0,len(list1)):\n",
    "    element = list1[index]\n",
    "    if element%2==0:\n",
    "        list2.append(element)\n",
    "        list1[index]=element**2\n",
    "    else:\n",
    "        list1[index]=element*2\n",
    "    print(list1[index])"
   ]
  },
  {
   "cell_type": "code",
   "execution_count": 26,
   "id": "6dbec0ad",
   "metadata": {},
   "outputs": [
    {
     "data": {
      "text/plain": [
       "[4, 6]"
      ]
     },
     "execution_count": 26,
     "metadata": {},
     "output_type": "execute_result"
    }
   ],
   "source": [
    "list2"
   ]
  },
  {
   "cell_type": "code",
   "execution_count": 12,
   "id": "2738b448",
   "metadata": {},
   "outputs": [
    {
     "data": {
      "text/plain": [
       "0"
      ]
     },
     "execution_count": 12,
     "metadata": {},
     "output_type": "execute_result"
    }
   ],
   "source": [
    "list1.index(16)"
   ]
  },
  {
   "cell_type": "code",
   "execution_count": 32,
   "id": "1a4d5826",
   "metadata": {},
   "outputs": [
    {
     "data": {
      "text/plain": [
       "[0, 2, 4, 6, 8, 10, 12, 14]"
      ]
     },
     "execution_count": 32,
     "metadata": {},
     "output_type": "execute_result"
    }
   ],
   "source": [
    "l = list(range(0,15+1,2))\n",
    "l"
   ]
  },
  {
   "cell_type": "code",
   "execution_count": 33,
   "id": "5224b275",
   "metadata": {},
   "outputs": [
    {
     "name": "stdout",
     "output_type": "stream",
     "text": [
      "0\n",
      "2\n",
      "4\n",
      "6\n",
      "8\n",
      "10\n",
      "12\n",
      "14\n"
     ]
    }
   ],
   "source": [
    "for i in l:\n",
    "    print(i)"
   ]
  },
  {
   "cell_type": "code",
   "execution_count": 49,
   "id": "cc2e5fbf",
   "metadata": {},
   "outputs": [
    {
     "name": "stdout",
     "output_type": "stream",
     "text": [
      "5\n",
      "8\n",
      "9\n",
      "4\n",
      "5\n",
      "7\n",
      "9\n",
      "8\n",
      "0\n",
      "3\n"
     ]
    }
   ],
   "source": [
    "list1 = [5,8,9,4,5,7,9,8,0,3]\n",
    "for index in range(0,len(list1)):\n",
    "    print(list1[index])"
   ]
  },
  {
   "cell_type": "code",
   "execution_count": 66,
   "id": "9acd462e",
   "metadata": {},
   "outputs": [
    {
     "data": {
      "text/plain": [
       "[16, 36, 18, 6, 10, 18]"
      ]
     },
     "execution_count": 66,
     "metadata": {},
     "output_type": "execute_result"
    }
   ],
   "source": [
    "list1  = [4,6,9,3,5,9]\n",
    "\n",
    "for element in list1:\n",
    "    index_element = list1.index(element)\n",
    "    if element%2==0:\n",
    "        list1[index_element]=element**2\n",
    "    elif element%2!=0:\n",
    "        list1[index_element]=element*2\n",
    "        \n",
    "list1"
   ]
  },
  {
   "cell_type": "code",
   "execution_count": 68,
   "id": "d1c1f6c8",
   "metadata": {},
   "outputs": [
    {
     "data": {
      "text/plain": [
       "[16, 36, 18, 6, 10, 18]"
      ]
     },
     "execution_count": 68,
     "metadata": {},
     "output_type": "execute_result"
    }
   ],
   "source": [
    "list1  = [4,6,9,3,5,9]\n",
    "\n",
    "for index in range(0,len(list1)):\n",
    "    element = list1[index]\n",
    "    if element%2==0:\n",
    "        list1[index]=element**2\n",
    "    else:\n",
    "        list1[index]=element*2\n",
    "list1"
   ]
  },
  {
   "cell_type": "code",
   "execution_count": 69,
   "id": "b0c347dd",
   "metadata": {},
   "outputs": [
    {
     "data": {
      "text/plain": [
       "[16, 12, 81, 6, 25, 18]"
      ]
     },
     "execution_count": 69,
     "metadata": {},
     "output_type": "execute_result"
    }
   ],
   "source": [
    "list1  = [4,6,9,3,5,9]\n",
    "\n",
    "for element in list1:\n",
    "    index_element = list1.index(element)\n",
    "    if index_element%2==0:\n",
    "        list1[index_element]=element**2\n",
    "    elif index_element%2!=0:\n",
    "        list1[index_element]=element*2\n",
    "        \n",
    "list1"
   ]
  },
  {
   "cell_type": "code",
   "execution_count": 70,
   "id": "1f62c29c",
   "metadata": {},
   "outputs": [
    {
     "data": {
      "text/plain": [
       "[16, 12, 81, 6, 25, 18]"
      ]
     },
     "execution_count": 70,
     "metadata": {},
     "output_type": "execute_result"
    }
   ],
   "source": [
    "list1  = [4,6,9,3,5,9]\n",
    "\n",
    "for index in range(0,len(list1)):\n",
    "    element = list1[index]\n",
    "    if index%2==0:\n",
    "        list1[index]=element**2\n",
    "    else:\n",
    "        list1[index]=element*2\n",
    "list1"
   ]
  },
  {
   "cell_type": "code",
   "execution_count": null,
   "id": "647875c2",
   "metadata": {},
   "outputs": [],
   "source": [
    "check whether a string is palindrom?\n",
    "\n",
    "input = 'string'\n",
    "\n",
    "1. reverse the string\n",
    "2. check whether input and reverse is same\n",
    "3 if same palindrome else non palindrome\n",
    "\n",
    "input = ''"
   ]
  },
  {
   "cell_type": "code",
   "execution_count": 6,
   "id": "34b02e26",
   "metadata": {},
   "outputs": [
    {
     "name": "stdout",
     "output_type": "stream",
     "text": [
      "bhjk\n",
      "Not Pal\n"
     ]
    }
   ],
   "source": [
    "input1 = input()\n",
    "\n",
    "if input1==input1[::-1]:\n",
    "    print('Pal')\n",
    "else:\n",
    "    print('Not Pal')"
   ]
  },
  {
   "cell_type": "code",
   "execution_count": null,
   "id": "3af6544f",
   "metadata": {},
   "outputs": [],
   "source": [
    "prime?\n"
   ]
  },
  {
   "cell_type": "code",
   "execution_count": 43,
   "id": "248a144d",
   "metadata": {},
   "outputs": [
    {
     "name": "stdout",
     "output_type": "stream",
     "text": [
      "3 is dividor\n",
      "non prime\n"
     ]
    }
   ],
   "source": [
    "n = 15\n",
    "\n",
    "assume = 'prime'\n",
    "\n",
    "for element in range(2,n):\n",
    "    if n % element == 0:\n",
    "        print(element,'is dividor')\n",
    "        assume = 'non prime'\n",
    "        break\n",
    "\n",
    "print(assume)"
   ]
  },
  {
   "cell_type": "code",
   "execution_count": 44,
   "id": "02dfcd66",
   "metadata": {},
   "outputs": [],
   "source": [
    "n = 29\n",
    "\n",
    "for element in range(2,n):\n",
    "    if n % element == 0:\n",
    "        result = 'non prime'\n",
    "        break\n",
    "    else:\n",
    "        result = 'prime'"
   ]
  },
  {
   "cell_type": "code",
   "execution_count": 42,
   "id": "8562ac09",
   "metadata": {},
   "outputs": [
    {
     "data": {
      "text/plain": [
       "'prime'"
      ]
     },
     "execution_count": 42,
     "metadata": {},
     "output_type": "execute_result"
    }
   ],
   "source": [
    "result"
   ]
  },
  {
   "cell_type": "code",
   "execution_count": 45,
   "id": "1d5ef5f3",
   "metadata": {},
   "outputs": [
    {
     "data": {
      "text/plain": [
       "125"
      ]
     },
     "execution_count": 45,
     "metadata": {},
     "output_type": "execute_result"
    }
   ],
   "source": [
    "# square = 2**3\n",
    "\n",
    "def square(n):\n",
    "    return n**3\n",
    "\n",
    "square(5)"
   ]
  },
  {
   "cell_type": "code",
   "execution_count": 55,
   "id": "944647eb",
   "metadata": {},
   "outputs": [
    {
     "name": "stdout",
     "output_type": "stream",
     "text": [
      "3136\n"
     ]
    }
   ],
   "source": [
    "def square(n):\n",
    "    print(n**2)\n",
    "\n",
    "square(56)"
   ]
  },
  {
   "cell_type": "code",
   "execution_count": 57,
   "id": "cf71d2fa",
   "metadata": {},
   "outputs": [
    {
     "name": "stdout",
     "output_type": "stream",
     "text": [
      "65\n"
     ]
    }
   ],
   "source": [
    "def addition(a,b):\n",
    "    print(a+b)\n",
    "\n",
    "addition(5,60)\n"
   ]
  },
  {
   "cell_type": "code",
   "execution_count": 65,
   "id": "5ccf7cd8",
   "metadata": {},
   "outputs": [],
   "source": [
    "def check_prime(n):\n",
    "\n",
    "    for element in range(2,n):\n",
    "        if n % element == 0:\n",
    "            result = 'non prime'\n",
    "            break\n",
    "        else:\n",
    "            result = 'prime'\n",
    "    return(result)\n",
    "    \n"
   ]
  },
  {
   "cell_type": "code",
   "execution_count": 66,
   "id": "8808e058",
   "metadata": {},
   "outputs": [],
   "source": [
    "result = check_prime(12)"
   ]
  },
  {
   "cell_type": "code",
   "execution_count": 67,
   "id": "1e40e2e6",
   "metadata": {},
   "outputs": [
    {
     "data": {
      "text/plain": [
       "'non prime'"
      ]
     },
     "execution_count": 67,
     "metadata": {},
     "output_type": "execute_result"
    }
   ],
   "source": [
    "result"
   ]
  },
  {
   "cell_type": "code",
   "execution_count": 73,
   "id": "56decef5",
   "metadata": {},
   "outputs": [
    {
     "name": "stdout",
     "output_type": "stream",
     "text": [
      "0 5\n",
      "1 7\n",
      "2 8\n"
     ]
    }
   ],
   "source": [
    "list1 = [5,7,8]\n",
    "for i in range(len(list1)):\n",
    "    print(i,list1[i])"
   ]
  },
  {
   "cell_type": "code",
   "execution_count": 74,
   "id": "eb279ebf",
   "metadata": {},
   "outputs": [
    {
     "name": "stdout",
     "output_type": "stream",
     "text": [
      "0 5\n",
      "1 7\n",
      "2 8\n"
     ]
    }
   ],
   "source": [
    "i = 0\n",
    "while (i<len(list1)):\n",
    "    print(i,list1[i])\n",
    "    i = i+1"
   ]
  },
  {
   "cell_type": "code",
   "execution_count": null,
   "id": "a03cdaeb",
   "metadata": {},
   "outputs": [],
   "source": []
  }
 ],
 "metadata": {
  "kernelspec": {
   "display_name": "Python 3 (ipykernel)",
   "language": "python",
   "name": "python3"
  },
  "language_info": {
   "codemirror_mode": {
    "name": "ipython",
    "version": 3
   },
   "file_extension": ".py",
   "mimetype": "text/x-python",
   "name": "python",
   "nbconvert_exporter": "python",
   "pygments_lexer": "ipython3",
   "version": "3.9.12"
  }
 },
 "nbformat": 4,
 "nbformat_minor": 5
}
