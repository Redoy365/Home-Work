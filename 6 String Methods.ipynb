{
 "cells": [
  {
   "cell_type": "markdown",
   "id": "b7975724",
   "metadata": {},
   "source": [
    "# Class 6 : trainer (smiritica shadukhan) Student (MD.Redoy Sarder)"
   ]
  },
  {
   "cell_type": "code",
   "execution_count": 1,
   "id": "3634c0d4",
   "metadata": {},
   "outputs": [
    {
     "name": "stdout",
     "output_type": "stream",
     "text": [
      "9\n"
     ]
    }
   ],
   "source": [
    "def square(n):\n",
    "    print(n**2)\n",
    "\n",
    "square(3)"
   ]
  },
  {
   "cell_type": "code",
   "execution_count": 2,
   "id": "6049f157",
   "metadata": {},
   "outputs": [
    {
     "name": "stdout",
     "output_type": "stream",
     "text": [
      "9\n"
     ]
    }
   ],
   "source": [
    "def square1(n):\n",
    "    return n**2\n",
    "\n",
    "square(3)"
   ]
  },
  {
   "cell_type": "code",
   "execution_count": 3,
   "id": "b46a3389",
   "metadata": {},
   "outputs": [
    {
     "name": "stdout",
     "output_type": "stream",
     "text": [
      "16\n"
     ]
    }
   ],
   "source": [
    "a = square(4)"
   ]
  },
  {
   "cell_type": "code",
   "execution_count": 4,
   "id": "ba18fc5a",
   "metadata": {},
   "outputs": [],
   "source": [
    "b = square1(5)"
   ]
  },
  {
   "cell_type": "code",
   "execution_count": 5,
   "id": "3bafe041",
   "metadata": {},
   "outputs": [
    {
     "data": {
      "text/plain": [
       "25"
      ]
     },
     "execution_count": 5,
     "metadata": {},
     "output_type": "execute_result"
    }
   ],
   "source": [
    "b"
   ]
  },
  {
   "cell_type": "markdown",
   "id": "58457a36",
   "metadata": {},
   "source": [
    "# 1.1.1 capitalize()"
   ]
  },
  {
   "cell_type": "code",
   "execution_count": 6,
   "id": "8f69d9e0",
   "metadata": {},
   "outputs": [
    {
     "name": "stdout",
     "output_type": "stream",
     "text": [
      "Hello world !\n"
     ]
    }
   ],
   "source": [
    "txt = \"hello world !\"\n",
    "\n",
    "x = txt.capitalize()\n",
    "\n",
    "print(x)"
   ]
  },
  {
   "cell_type": "markdown",
   "id": "cd411aed",
   "metadata": {},
   "source": [
    "# 1.1.2 casefold()"
   ]
  },
  {
   "cell_type": "code",
   "execution_count": 7,
   "id": "1dee4029",
   "metadata": {},
   "outputs": [
    {
     "name": "stdout",
     "output_type": "stream",
     "text": [
      "hello, and welcome to my world!\n"
     ]
    }
   ],
   "source": [
    "txt = \"Hello, And Welcome To My World!\"\n",
    "\n",
    "x = txt.casefold()\n",
    "\n",
    "print(x)"
   ]
  },
  {
   "cell_type": "markdown",
   "id": "60059d83",
   "metadata": {},
   "source": [
    "# 1.1.3 center()"
   ]
  },
  {
   "cell_type": "code",
   "execution_count": 8,
   "id": "cfd50060",
   "metadata": {},
   "outputs": [
    {
     "name": "stdout",
     "output_type": "stream",
     "text": [
      "       Hello        \n"
     ]
    }
   ],
   "source": [
    "txt = \"Hello\"\n",
    "\n",
    "x = txt.center(20)\n",
    "\n",
    "print(x)"
   ]
  },
  {
   "cell_type": "markdown",
   "id": "19489a00",
   "metadata": {},
   "source": [
    "# 1.1.4 count()"
   ]
  },
  {
   "cell_type": "code",
   "execution_count": 9,
   "id": "a1bff0e8",
   "metadata": {},
   "outputs": [
    {
     "name": "stdout",
     "output_type": "stream",
     "text": [
      "2\n"
     ]
    }
   ],
   "source": [
    "txt = \"I love apples, apple are my favorite fruit\"\n",
    "\n",
    "x = txt.count(\"apple\")\n",
    "\n",
    "print(x)"
   ]
  },
  {
   "cell_type": "markdown",
   "id": "0bac7ac4",
   "metadata": {},
   "source": [
    "# 1.1.5 encode()"
   ]
  },
  {
   "cell_type": "code",
   "execution_count": 10,
   "id": "b690aa71",
   "metadata": {},
   "outputs": [
    {
     "name": "stdout",
     "output_type": "stream",
     "text": [
      "x1 :  True\n",
      "x2 :  False\n"
     ]
    }
   ],
   "source": [
    "txt1 = \"My name is Redoy.\"\n",
    "txt2 = \"My name is Redoy !\"\n",
    "\n",
    "x1 = txt1.endswith(\".\")\n",
    "x2 = txt2.endswith(\".\")\n",
    "\n",
    "print('x1 : ', x1)\n",
    "print('x2 : ', x2)"
   ]
  },
  {
   "cell_type": "markdown",
   "id": "7a1c0105",
   "metadata": {},
   "source": [
    "# 1.1.6 expandtabs()"
   ]
  },
  {
   "cell_type": "code",
   "execution_count": 11,
   "id": "907bf7fa",
   "metadata": {},
   "outputs": [
    {
     "name": "stdout",
     "output_type": "stream",
     "text": [
      "H   e   l   l   o\n"
     ]
    }
   ],
   "source": [
    "txt = \"H\\te\\tl\\tl\\to\"\n",
    "\n",
    "x =  txt.expandtabs(4)\n",
    "\n",
    "print(x)"
   ]
  },
  {
   "cell_type": "markdown",
   "id": "c8bee6bf",
   "metadata": {},
   "source": [
    "# 1.1.7 find()"
   ]
  },
  {
   "cell_type": "code",
   "execution_count": 12,
   "id": "3e682201",
   "metadata": {},
   "outputs": [
    {
     "name": "stdout",
     "output_type": "stream",
     "text": [
      "7\n"
     ]
    }
   ],
   "source": [
    "txt = \"Hello, welcome to my world.\"\n",
    "\n",
    "x = txt.find(\"welcome\")\n",
    "\n",
    "print(x)"
   ]
  },
  {
   "cell_type": "markdown",
   "id": "d65a4604",
   "metadata": {},
   "source": [
    "# 1.1.8 format()"
   ]
  },
  {
   "cell_type": "code",
   "execution_count": 13,
   "id": "ea732649",
   "metadata": {},
   "outputs": [
    {
     "name": "stdout",
     "output_type": "stream",
     "text": [
      "For only 49.00 dollars!\n"
     ]
    }
   ],
   "source": [
    "txt = \"For only {price:.2f} dollars!\"\n",
    "print(txt.format(price = 49))"
   ]
  },
  {
   "cell_type": "markdown",
   "id": "810cc263",
   "metadata": {},
   "source": [
    "# 1.1.9 index()"
   ]
  },
  {
   "cell_type": "code",
   "execution_count": 14,
   "id": "0ae49508",
   "metadata": {},
   "outputs": [
    {
     "name": "stdout",
     "output_type": "stream",
     "text": [
      "7\n"
     ]
    }
   ],
   "source": [
    "txt = \"Hello, welcome to my world.\"\n",
    "\n",
    "x = txt.index(\"welcome\")\n",
    "\n",
    "print(x)"
   ]
  },
  {
   "cell_type": "markdown",
   "id": "190c6c9f",
   "metadata": {},
   "source": [
    "# 1.2.0 isalpha()"
   ]
  },
  {
   "cell_type": "code",
   "execution_count": 15,
   "id": "33210198",
   "metadata": {},
   "outputs": [
    {
     "name": "stdout",
     "output_type": "stream",
     "text": [
      "txt1 : True\n",
      "txt2 : False\n"
     ]
    }
   ],
   "source": [
    "txt1 = \"Company\"\n",
    "txt2 = \"Company5\"\n",
    "\n",
    "x1 = txt1.isalpha()\n",
    "x2 = txt2.isalpha()\n",
    "\n",
    "print('txt1 :',x1)\n",
    "print('txt2 :',x2)"
   ]
  },
  {
   "cell_type": "markdown",
   "id": "8c50e0f1",
   "metadata": {},
   "source": [
    "# 1.2.1 isalnum()"
   ]
  },
  {
   "cell_type": "code",
   "execution_count": 16,
   "id": "cb20998e",
   "metadata": {},
   "outputs": [
    {
     "name": "stdout",
     "output_type": "stream",
     "text": [
      "txt1 :  True\n",
      "txt2 :  False\n"
     ]
    }
   ],
   "source": [
    "txt1 = \"Redoy12\"\n",
    "txt2 = \"Redoy12$\"\n",
    "\n",
    "x1 = txt1.isalnum()\n",
    "x2 = txt2.isalnum()\n",
    "\n",
    "print('txt1 : ',x1)\n",
    "print('txt2 : ',x2)"
   ]
  },
  {
   "cell_type": "markdown",
   "id": "354abd38",
   "metadata": {},
   "source": [
    "# 1.2.2 isascii()"
   ]
  },
  {
   "cell_type": "code",
   "execution_count": 17,
   "id": "fd46bc93",
   "metadata": {},
   "outputs": [
    {
     "name": "stdout",
     "output_type": "stream",
     "text": [
      "True\n"
     ]
    }
   ],
   "source": [
    "txt = \"Company123 ?\"\n",
    "\n",
    "x = txt.isascii()\n",
    "\n",
    "print(x)"
   ]
  },
  {
   "cell_type": "markdown",
   "id": "c64a09e8",
   "metadata": {},
   "source": [
    "# 1.2.3 isdecimal()"
   ]
  },
  {
   "cell_type": "code",
   "execution_count": 25,
   "id": "3b90573d",
   "metadata": {},
   "outputs": [
    {
     "name": "stdout",
     "output_type": "stream",
     "text": [
      "txt1 : True\n",
      "txt2 : False\n"
     ]
    }
   ],
   "source": [
    "txt1 = \"1234\"\n",
    "txt2 = \"1234 A\"\n",
    "\n",
    "x1 = txt1.isdecimal()\n",
    "x2 = txt2.isdecimal()\n",
    "\n",
    "print('txt1 :',x1)\n",
    "print('txt2 :',x2)"
   ]
  },
  {
   "cell_type": "markdown",
   "id": "c8a9cdb5",
   "metadata": {},
   "source": [
    "# 1.2.4 isdigit()"
   ]
  },
  {
   "cell_type": "code",
   "execution_count": 26,
   "id": "d79c757d",
   "metadata": {},
   "outputs": [
    {
     "name": "stdout",
     "output_type": "stream",
     "text": [
      "True\n",
      "False\n"
     ]
    }
   ],
   "source": [
    "txt1 = \"50800\"\n",
    "txt2 = \"50 800\"\n",
    "\n",
    "x1 = txt1.isdigit()\n",
    "x2 = txt2.isdigit()\n",
    "\n",
    "print(x1)\n",
    "print(x2)"
   ]
  },
  {
   "cell_type": "markdown",
   "id": "c24a0954",
   "metadata": {},
   "source": [
    "# 1.2.5 isidentifier()"
   ]
  },
  {
   "cell_type": "code",
   "execution_count": 28,
   "id": "2ad3fc4c",
   "metadata": {},
   "outputs": [
    {
     "name": "stdout",
     "output_type": "stream",
     "text": [
      "True\n",
      "True\n",
      "False\n",
      "False\n"
     ]
    }
   ],
   "source": [
    "a = \"MyFolder\"\n",
    "b = \"Demo002\"\n",
    "c = \"2bring\"\n",
    "d = \"my demo\"\n",
    "\n",
    "print(a.isidentifier())\n",
    "print(b.isidentifier())\n",
    "print(c.isidentifier())\n",
    "print(d.isidentifier())"
   ]
  },
  {
   "cell_type": "markdown",
   "id": "7001e828",
   "metadata": {},
   "source": [
    "# 1.2.6 islower()"
   ]
  },
  {
   "cell_type": "code",
   "execution_count": 30,
   "id": "1c3206a6",
   "metadata": {},
   "outputs": [
    {
     "name": "stdout",
     "output_type": "stream",
     "text": [
      "False\n",
      "True\n",
      "False\n"
     ]
    }
   ],
   "source": [
    "a = \"Hello world!\"\n",
    "b = \"hello 123\"\n",
    "c = \"mynameisPeter\"\n",
    "\n",
    "print(a.islower())\n",
    "print(b.islower())\n",
    "print(c.islower())"
   ]
  },
  {
   "cell_type": "markdown",
   "id": "9815fa36",
   "metadata": {},
   "source": [
    "# 1.2.7 isnumeric()"
   ]
  },
  {
   "cell_type": "code",
   "execution_count": 34,
   "id": "629909c0",
   "metadata": {},
   "outputs": [
    {
     "name": "stdout",
     "output_type": "stream",
     "text": [
      "True\n",
      "True\n",
      "False\n",
      "False\n",
      "False\n",
      "True\n"
     ]
    }
   ],
   "source": [
    "a = \"\\u0030\" #unicode for 0\n",
    "b = \"\\u00B2\" #unicode for &sup2;\n",
    "c = \"10km2\"\n",
    "d = \"-1\"\n",
    "e = \"1.5\"\n",
    "f = \"1\"\n",
    "\n",
    "print(a.isnumeric())\n",
    "print(b.isnumeric())\n",
    "print(c.isnumeric())\n",
    "print(d.isnumeric())\n",
    "print(e.isnumeric())\n",
    "print(f.isnumeric())"
   ]
  },
  {
   "cell_type": "markdown",
   "id": "66b444cb",
   "metadata": {},
   "source": [
    "# 1.2.8 isprintable()"
   ]
  },
  {
   "cell_type": "code",
   "execution_count": 35,
   "id": "c4e28353",
   "metadata": {},
   "outputs": [
    {
     "name": "stdout",
     "output_type": "stream",
     "text": [
      "True\n"
     ]
    }
   ],
   "source": [
    "txt = \"Hello! Are you #1?\"\n",
    "\n",
    "x = txt.isprintable()\n",
    "\n",
    "print(x)"
   ]
  },
  {
   "cell_type": "markdown",
   "id": "cb234373",
   "metadata": {},
   "source": [
    "# 1.2.9 isspace()"
   ]
  },
  {
   "cell_type": "code",
   "execution_count": 41,
   "id": "e8ca6a5a",
   "metadata": {},
   "outputs": [
    {
     "name": "stdout",
     "output_type": "stream",
     "text": [
      "True\n",
      "False\n",
      "False\n"
     ]
    }
   ],
   "source": [
    "txt1 = \" \"\n",
    "txt2 = \" A \"\n",
    "txt3 = \"\"\n",
    "\n",
    "x1 = txt1.isspace()\n",
    "x2 = txt2.isspace()\n",
    "x3 = txt3.isspace()\n",
    "\n",
    "print(x1)\n",
    "print(x2)\n",
    "print(x3)"
   ]
  },
  {
   "cell_type": "markdown",
   "id": "b1f065d4",
   "metadata": {},
   "source": [
    "# 1.3.0 istitle()"
   ]
  },
  {
   "cell_type": "code",
   "execution_count": 1,
   "id": "d8cf76bd",
   "metadata": {},
   "outputs": [
    {
     "name": "stdout",
     "output_type": "stream",
     "text": [
      "True\n"
     ]
    }
   ],
   "source": [
    "txt = \"Hello, And Welcome To My World!\"\n",
    "\n",
    "x = txt.istitle()\n",
    "\n",
    "print(x)"
   ]
  },
  {
   "cell_type": "code",
   "execution_count": 5,
   "id": "6d2108fc",
   "metadata": {},
   "outputs": [
    {
     "name": "stdout",
     "output_type": "stream",
     "text": [
      "False\n",
      "True\n",
      "True\n",
      "True\n",
      "False\n"
     ]
    }
   ],
   "source": [
    "a = \"HELLO, AND WELCOME TO MY WORLD\"\n",
    "b = \"Hello\"\n",
    "c = \"22 Names\"\n",
    "d = \"This Is %'!?\"\n",
    "e = \"Hello world !\"\n",
    "\n",
    "print(a.istitle())\n",
    "print(b.istitle())\n",
    "print(c.istitle())\n",
    "print(d.istitle())\n",
    "print(e.istitle())"
   ]
  },
  {
   "cell_type": "markdown",
   "id": "5ef219d2",
   "metadata": {},
   "source": [
    "# 1.3.1 isupper()"
   ]
  },
  {
   "cell_type": "code",
   "execution_count": 6,
   "id": "ce1c57bd",
   "metadata": {},
   "outputs": [
    {
     "name": "stdout",
     "output_type": "stream",
     "text": [
      "True\n"
     ]
    }
   ],
   "source": [
    "txt = \"THIS IS NOW!\"\n",
    "\n",
    "x = txt.isupper()\n",
    "\n",
    "print(x)"
   ]
  },
  {
   "cell_type": "code",
   "execution_count": 7,
   "id": "93755d1e",
   "metadata": {},
   "outputs": [
    {
     "name": "stdout",
     "output_type": "stream",
     "text": [
      "False\n",
      "False\n",
      "True\n"
     ]
    }
   ],
   "source": [
    "a = \"Hello World!\"\n",
    "b = \"hello 123\"\n",
    "c = \"MY NAME IS PETER\"\n",
    "\n",
    "print(a.isupper())\n",
    "print(b.isupper())\n",
    "print(c.isupper())"
   ]
  },
  {
   "cell_type": "markdown",
   "id": "c87edf86",
   "metadata": {},
   "source": [
    "# 1.3.2 join()"
   ]
  },
  {
   "cell_type": "code",
   "execution_count": 9,
   "id": "c42ae924",
   "metadata": {},
   "outputs": [
    {
     "name": "stdout",
     "output_type": "stream",
     "text": [
      "John#Peter#Vicky\n"
     ]
    }
   ],
   "source": [
    "myTuple = (\"John\", \"Peter\", \"Vicky\")\n",
    "\n",
    "x = \"#\".join(myTuple)\n",
    "\n",
    "print(x)"
   ]
  },
  {
   "cell_type": "code",
   "execution_count": 15,
   "id": "f3f139e2",
   "metadata": {},
   "outputs": [
    {
     "name": "stdout",
     "output_type": "stream",
     "text": [
      "H@e@l@l@o@ @W@o@r@l@d@ @!\n",
      "Hello@World@!\n",
      "Hello@!@World\n",
      "Hello@World@!\n"
     ]
    }
   ],
   "source": [
    "txt1 = \"Hello World !\"\n",
    "txt2 = (\"Hello\", \"World\", \"!\")\n",
    "txt3 = {\"Hello\", \"World\", \"!\"}\n",
    "txt4 = [\"Hello\", \"World\", \"!\"]\n",
    "\n",
    "x1 = \"@\".join(txt1)\n",
    "x2 = \"@\".join(txt2)\n",
    "x3 = \"@\".join(txt3)\n",
    "x4 = \"@\".join(txt4)\n",
    "\n",
    "print(x1)\n",
    "print(x2)\n",
    "print(x3)\n",
    "print(x4)"
   ]
  },
  {
   "cell_type": "code",
   "execution_count": 16,
   "id": "898b0240",
   "metadata": {},
   "outputs": [
    {
     "name": "stdout",
     "output_type": "stream",
     "text": [
      "nameTESTcountry\n"
     ]
    }
   ],
   "source": [
    "myDict = {\"name\": \"John\", \"country\": \"Norway\"}\n",
    "mySeparator = \"TEST\"\n",
    "\n",
    "x = mySeparator.join(myDict)\n",
    "\n",
    "print(x)"
   ]
  },
  {
   "cell_type": "markdown",
   "id": "b48aff17",
   "metadata": {},
   "source": [
    "# 1.3.3 ljust()"
   ]
  },
  {
   "cell_type": "code",
   "execution_count": 18,
   "id": "49985290",
   "metadata": {},
   "outputs": [
    {
     "name": "stdout",
     "output_type": "stream",
     "text": [
      "banana                         is my favorite fruit.\n"
     ]
    }
   ],
   "source": [
    "txt = \"banana\"\n",
    "\n",
    "x = txt.ljust(30)\n",
    "\n",
    "print(x, \"is my favorite fruit.\")"
   ]
  },
  {
   "cell_type": "markdown",
   "id": "152933a6",
   "metadata": {},
   "source": [
    "# 1.3.4 lower()"
   ]
  },
  {
   "cell_type": "code",
   "execution_count": 19,
   "id": "78007c1a",
   "metadata": {},
   "outputs": [
    {
     "name": "stdout",
     "output_type": "stream",
     "text": [
      "hello my friends\n"
     ]
    }
   ],
   "source": [
    "txt = \"Hello my FRIENDS\"\n",
    "\n",
    "x = txt.lower()\n",
    "\n",
    "print(x)"
   ]
  },
  {
   "cell_type": "markdown",
   "id": "fd3e3255",
   "metadata": {},
   "source": [
    "# 1.3.5 lstrip()"
   ]
  },
  {
   "cell_type": "code",
   "execution_count": 22,
   "id": "274cf951",
   "metadata": {},
   "outputs": [
    {
     "name": "stdout",
     "output_type": "stream",
     "text": [
      "of all fruits banana      is my favorite\n"
     ]
    }
   ],
   "source": [
    "txt = \"     banana     \"\n",
    "\n",
    "x = txt.lstrip()\n",
    "\n",
    "print(\"of all fruits\", x, \"is my favorite\")"
   ]
  },
  {
   "cell_type": "code",
   "execution_count": 23,
   "id": "4d5704f9",
   "metadata": {},
   "outputs": [
    {
     "name": "stdout",
     "output_type": "stream",
     "text": [
      "banana\n"
     ]
    }
   ],
   "source": [
    "txt = \",,,,,ssaaww.....banana\"\n",
    "\n",
    "x = txt.lstrip(\",.asw\")\n",
    "\n",
    "print(x)"
   ]
  },
  {
   "cell_type": "markdown",
   "id": "afee75f4",
   "metadata": {},
   "source": [
    "# 1.3.6 maketrans()"
   ]
  },
  {
   "cell_type": "code",
   "execution_count": 24,
   "id": "2b994ddc",
   "metadata": {},
   "outputs": [
    {
     "name": "stdout",
     "output_type": "stream",
     "text": [
      "Hello Pam!\n"
     ]
    }
   ],
   "source": [
    "txt = \"Hello Sam!\"\n",
    "\n",
    "mytable = str.maketrans(\"S\", \"P\")\n",
    "\n",
    "print(txt.translate(mytable))"
   ]
  },
  {
   "cell_type": "code",
   "execution_count": 25,
   "id": "6a24be27",
   "metadata": {},
   "outputs": [
    {
     "name": "stdout",
     "output_type": "stream",
     "text": [
      "{109: 101, 83: 74, 97: 111, 111: None, 100: None, 110: None, 103: None, 104: None, 116: None}\n"
     ]
    }
   ],
   "source": [
    "txt = \"Good night Sam!\"\n",
    "x = \"mSa\"\n",
    "y = \"eJo\"\n",
    "z = \"odnght\"\n",
    "print(str.maketrans(x, y, z))"
   ]
  },
  {
   "cell_type": "markdown",
   "id": "401bf70f",
   "metadata": {},
   "source": [
    "# 1.3.7 partition()"
   ]
  },
  {
   "cell_type": "code",
   "execution_count": 26,
   "id": "7f7d24a0",
   "metadata": {},
   "outputs": [
    {
     "name": "stdout",
     "output_type": "stream",
     "text": [
      "('I could eat ', 'bananas', ' all day')\n"
     ]
    }
   ],
   "source": [
    "txt = \"I could eat bananas all day\"\n",
    "\n",
    "x = txt.partition(\"bananas\")\n",
    "\n",
    "print(x)"
   ]
  },
  {
   "cell_type": "markdown",
   "id": "778b776a",
   "metadata": {},
   "source": [
    "# 1.3.8 replace()"
   ]
  },
  {
   "cell_type": "code",
   "execution_count": 28,
   "id": "c8d264df",
   "metadata": {},
   "outputs": [
    {
     "name": "stdout",
     "output_type": "stream",
     "text": [
      "I like apples\n"
     ]
    }
   ],
   "source": [
    "txt = \"I like bananas\"\n",
    "\n",
    "x = txt.replace(\"bananas\", \"apples\")\n",
    "\n",
    "print(x)"
   ]
  },
  {
   "cell_type": "code",
   "execution_count": null,
   "id": "435dd2be",
   "metadata": {},
   "outputs": [],
   "source": []
  },
  {
   "cell_type": "code",
   "execution_count": 32,
   "id": "8d04759b",
   "metadata": {},
   "outputs": [
    {
     "name": "stdout",
     "output_type": "stream",
     "text": [
      "12\n"
     ]
    }
   ],
   "source": [
    "txt = \"Mi casa, su casa.\"\n",
    "\n",
    "x = txt.rfind(\"casa\")\n",
    "\n",
    "print(x)"
   ]
  },
  {
   "cell_type": "markdown",
   "id": "dab71ee3",
   "metadata": {},
   "source": [
    "# 1.3.9 rindex()"
   ]
  },
  {
   "cell_type": "code",
   "execution_count": 33,
   "id": "650ba68b",
   "metadata": {},
   "outputs": [
    {
     "name": "stdout",
     "output_type": "stream",
     "text": [
      "12\n"
     ]
    }
   ],
   "source": [
    "txt = \"Mi casa, su casa.\"\n",
    "\n",
    "x = txt.rindex(\"casa\")\n",
    "\n",
    "print(x)"
   ]
  },
  {
   "cell_type": "markdown",
   "id": "c7ee7a09",
   "metadata": {},
   "source": [
    "# 1.4.0 rjust()"
   ]
  },
  {
   "cell_type": "code",
   "execution_count": 35,
   "id": "766b892e",
   "metadata": {},
   "outputs": [
    {
     "name": "stdout",
     "output_type": "stream",
     "text": [
      "              banana is my favorite fruit.\n"
     ]
    }
   ],
   "source": [
    "txt = \"banana\"\n",
    "\n",
    "x = txt.rjust(20)\n",
    "\n",
    "print(x, \"is my favorite fruit.\")"
   ]
  },
  {
   "cell_type": "markdown",
   "id": "0d30f50a",
   "metadata": {},
   "source": [
    "# 1.4.1 rpartition()"
   ]
  },
  {
   "cell_type": "code",
   "execution_count": 37,
   "id": "7d05906e",
   "metadata": {},
   "outputs": [
    {
     "name": "stdout",
     "output_type": "stream",
     "text": [
      "('I could eat bananas all day, ', 'bananas', ' are my favorite fruit')\n"
     ]
    }
   ],
   "source": [
    "txt = \"I could eat bananas all day, bananas are my favorite fruit\"\n",
    "\n",
    "x = txt.rpartition(\"bananas\")\n",
    "\n",
    "print(x)"
   ]
  },
  {
   "cell_type": "markdown",
   "id": "0db77544",
   "metadata": {},
   "source": [
    "# 1.4.2 rsplit()"
   ]
  },
  {
   "cell_type": "code",
   "execution_count": 44,
   "id": "7ea70a87",
   "metadata": {},
   "outputs": [
    {
     "name": "stdout",
     "output_type": "stream",
     "text": [
      "['apple', 'banana', 'cherry']\n"
     ]
    }
   ],
   "source": [
    "txt = \"apple, banana, cherry\"\n",
    "\n",
    "x = txt.rsplit(\", \")\n",
    "\n",
    "print(x)"
   ]
  },
  {
   "cell_type": "markdown",
   "id": "bc3d26e9",
   "metadata": {},
   "source": [
    "# 1.4.3 rstrip()"
   ]
  },
  {
   "cell_type": "code",
   "execution_count": 45,
   "id": "f085d94f",
   "metadata": {},
   "outputs": [
    {
     "name": "stdout",
     "output_type": "stream",
     "text": [
      "of all fruits      banana is my favorite\n"
     ]
    }
   ],
   "source": [
    "txt = \"     banana     \"\n",
    "\n",
    "x = txt.rstrip()\n",
    "\n",
    "print(\"of all fruits\", x, \"is my favorite\")"
   ]
  },
  {
   "cell_type": "markdown",
   "id": "92a30732",
   "metadata": {},
   "source": [
    "# 1.4.4 split()"
   ]
  },
  {
   "cell_type": "code",
   "execution_count": 46,
   "id": "4405b5ca",
   "metadata": {},
   "outputs": [
    {
     "name": "stdout",
     "output_type": "stream",
     "text": [
      "['welcome', 'to', 'the', 'jungle']\n"
     ]
    }
   ],
   "source": [
    "txt = \"welcome to the jungle\"\n",
    "\n",
    "x = txt.split()\n",
    "\n",
    "print(x)"
   ]
  },
  {
   "cell_type": "code",
   "execution_count": 53,
   "id": "81bacb76",
   "metadata": {},
   "outputs": [
    {
     "name": "stdout",
     "output_type": "stream",
     "text": [
      "['apple', 'banana#cherry#orange']\n"
     ]
    }
   ],
   "source": [
    "txt = \"apple#banana#cherry#orange\"\n",
    "\n",
    "# setting the maxsplit parameter to 1, will return a list with 2 elements!\n",
    "x = txt.split(\"#\", 1)\n",
    "\n",
    "print(x)"
   ]
  },
  {
   "cell_type": "markdown",
   "id": "2b8de1ec",
   "metadata": {},
   "source": [
    "# 1.4.5 splitlines()"
   ]
  },
  {
   "cell_type": "code",
   "execution_count": 54,
   "id": "45b5145a",
   "metadata": {},
   "outputs": [
    {
     "name": "stdout",
     "output_type": "stream",
     "text": [
      "['Thank you for the music', 'Welcome to the jungle']\n"
     ]
    }
   ],
   "source": [
    "txt = \"Thank you for the music\\nWelcome to the jungle\"\n",
    "\n",
    "x = txt.splitlines()\n",
    "\n",
    "print(x)"
   ]
  },
  {
   "cell_type": "markdown",
   "id": "9a97499e",
   "metadata": {},
   "source": [
    "# 1.4.6 startswith()"
   ]
  },
  {
   "cell_type": "code",
   "execution_count": 56,
   "id": "7f12db59",
   "metadata": {},
   "outputs": [
    {
     "name": "stdout",
     "output_type": "stream",
     "text": [
      "True\n"
     ]
    }
   ],
   "source": [
    "txt = \"Hello, welcome to my world.\"\n",
    "\n",
    "x = txt.startswith(\"Hello\")\n",
    "\n",
    "print(x)"
   ]
  },
  {
   "cell_type": "markdown",
   "id": "cb77035f",
   "metadata": {},
   "source": [
    "# 1.4.7 strip()"
   ]
  },
  {
   "cell_type": "code",
   "execution_count": 57,
   "id": "36332bd2",
   "metadata": {},
   "outputs": [
    {
     "name": "stdout",
     "output_type": "stream",
     "text": [
      "of all fruits banana is my favorite\n"
     ]
    }
   ],
   "source": [
    "txt = \"     banana     \"\n",
    "\n",
    "x = txt.strip()\n",
    "\n",
    "print(\"of all fruits\", x, \"is my favorite\")"
   ]
  },
  {
   "cell_type": "markdown",
   "id": "c4c030c9",
   "metadata": {},
   "source": [
    "# 1.4.8 swapcase()"
   ]
  },
  {
   "cell_type": "code",
   "execution_count": 58,
   "id": "ccdfb28a",
   "metadata": {},
   "outputs": [
    {
     "name": "stdout",
     "output_type": "stream",
     "text": [
      "hELLO mY nAME iS peter\n"
     ]
    }
   ],
   "source": [
    "txt = \"Hello My Name Is PETER\"\n",
    "\n",
    "x = txt.swapcase()\n",
    "\n",
    "print(x)"
   ]
  },
  {
   "cell_type": "markdown",
   "id": "4c27d11d",
   "metadata": {},
   "source": [
    "# 1.4.9 title()"
   ]
  },
  {
   "cell_type": "code",
   "execution_count": 60,
   "id": "4670196c",
   "metadata": {},
   "outputs": [
    {
     "name": "stdout",
     "output_type": "stream",
     "text": [
      "Welcome To My World\n"
     ]
    }
   ],
   "source": [
    "txt = \"Welcome to my world\"\n",
    "\n",
    "x = txt.title()\n",
    "\n",
    "print(x)"
   ]
  },
  {
   "cell_type": "markdown",
   "id": "21109984",
   "metadata": {},
   "source": [
    "# 1.5.0 translate()"
   ]
  },
  {
   "cell_type": "code",
   "execution_count": 71,
   "id": "11887165",
   "metadata": {},
   "outputs": [
    {
     "name": "stdout",
     "output_type": "stream",
     "text": [
      "Hello Kam!\n"
     ]
    }
   ],
   "source": [
    "mydict = {83:  75}\n",
    "txt = \"Hello Sam!\"\n",
    "print(txt.translate(mydict))"
   ]
  },
  {
   "cell_type": "markdown",
   "id": "93d1a37c",
   "metadata": {},
   "source": [
    "# 1.5.1 upper()"
   ]
  },
  {
   "cell_type": "code",
   "execution_count": 72,
   "id": "599faa60",
   "metadata": {},
   "outputs": [
    {
     "name": "stdout",
     "output_type": "stream",
     "text": [
      "HELLO MY FRIENDS\n"
     ]
    }
   ],
   "source": [
    "txt = \"Hello my friends\"\n",
    "\n",
    "x = txt.upper()\n",
    "\n",
    "print(x)"
   ]
  },
  {
   "cell_type": "markdown",
   "id": "7d441703",
   "metadata": {},
   "source": [
    "# 1.5.2 zfill()"
   ]
  },
  {
   "cell_type": "code",
   "execution_count": 74,
   "id": "f53711f8",
   "metadata": {},
   "outputs": [
    {
     "name": "stdout",
     "output_type": "stream",
     "text": [
      "0000000050\n"
     ]
    }
   ],
   "source": [
    "txt = \"50\"\n",
    "\n",
    "x = txt.zfill(10)\n",
    "\n",
    "print(x)"
   ]
  },
  {
   "cell_type": "code",
   "execution_count": null,
   "id": "97747ef3",
   "metadata": {},
   "outputs": [],
   "source": []
  }
 ],
 "metadata": {
  "kernelspec": {
   "display_name": "Python 3 (ipykernel)",
   "language": "python",
   "name": "python3"
  },
  "language_info": {
   "codemirror_mode": {
    "name": "ipython",
    "version": 3
   },
   "file_extension": ".py",
   "mimetype": "text/x-python",
   "name": "python",
   "nbconvert_exporter": "python",
   "pygments_lexer": "ipython3",
   "version": "3.10.9"
  }
 },
 "nbformat": 4,
 "nbformat_minor": 5
}
