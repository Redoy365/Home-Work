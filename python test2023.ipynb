{
 "cells": [
  {
   "cell_type": "code",
   "execution_count": 3,
   "id": "035d7700",
   "metadata": {},
   "outputs": [
    {
     "name": "stdout",
     "output_type": "stream",
     "text": [
      "2 3 5 7 11 13 17 19 23 29 31 37 41 43 47 53 59 61 67 71 73 79 83 89 97 "
     ]
    }
   ],
   "source": [
    "#prime number\n",
    "def is_prime(n):\n",
    "    if n <= 1:\n",
    "        return False\n",
    "    if n <= 3:\n",
    "        return True\n",
    "    if n % 2 == 0 or n % 3 == 0:\n",
    "        return False\n",
    "    i = 5\n",
    "    while i * i <= n:\n",
    "        if n % i == 0 or n % (i + 2) == 0:\n",
    "            return False\n",
    "        i += 6\n",
    "    return True\n",
    "for num in range(1, 101):\n",
    "    if is_prime(num):\n",
    "        print(num, end=\" \")\n",
    "\n"
   ]
  },
  {
   "cell_type": "code",
   "execution_count": 4,
   "id": "8fcc149d",
   "metadata": {},
   "outputs": [
    {
     "name": "stdout",
     "output_type": "stream",
     "text": [
      "2000 is a leap year\n"
     ]
    }
   ],
   "source": [
    "#leap year\n",
    "year = 2000\n",
    "if (year % 400 == 0) and (year % 100 == 0):\n",
    "    print(\"{0} is a leap year\".format(year))\n",
    "elif (year % 4 ==0) and (year % 100 != 0):\n",
    "    print(\"{0} is a leap year\".format(year))\n",
    "else:\n",
    "    print(\"{0} is not a leap year\".format(year))\n"
   ]
  },
  {
   "cell_type": "code",
   "execution_count": 5,
   "id": "0c7cde79",
   "metadata": {},
   "outputs": [
    {
     "name": "stdout",
     "output_type": "stream",
     "text": [
      "listen and silent are anagram.\n"
     ]
    }
   ],
   "source": [
    "#two string\n",
    "str1 = \"listen\"\n",
    "str2 = \"silent\"\n",
    "str1 = str1.lower()\n",
    "str2 = str2.lower()\n",
    "if(len(str1) == len(str2)):\n",
    "    sorted_str1 = sorted(str1)\n",
    "    sorted_str2 = sorted(str2)\n",
    "    if(sorted_str1 == sorted_str2):\n",
    "        print(str1 + \" and \" + str2 + \" are anagram.\")\n",
    "    else:\n",
    "        print(str1 + \" and \" + str2 + \" are not anagram.\")\n",
    "\n",
    "else:\n",
    "    print(str1 + \" and \" + str2 + \" are not anagram.\")"
   ]
  },
  {
   "cell_type": "code",
   "execution_count": 2,
   "id": "80d3ced5",
   "metadata": {},
   "outputs": [
    {
     "name": "stdout",
     "output_type": "stream",
     "text": [
      "Madam is a palindrome\n"
     ]
    }
   ],
   "source": [
    "#palindrome\n",
    "def is_palindrome(word):\n",
    "    word = word.replace(\" \", \"\").lower()\n",
    "    return word == word[::-1]\n",
    "word = \"Madam\"\n",
    "if is_palindrome(word):\n",
    "    print(f\"{word} is a palindrome\")\n",
    "else:\n",
    "    print(f\"{word} is not a palindrome\")\n"
   ]
  },
  {
   "cell_type": "code",
   "execution_count": 7,
   "id": "284f177b",
   "metadata": {},
   "outputs": [
    {
     "name": "stdout",
     "output_type": "stream",
     "text": [
      "Original Value:  True\n",
      "Empty SubString\n"
     ]
    }
   ],
   "source": [
    "#substring\n",
    "superstring = \"python with machine learning\"\n",
    "substring = \"\"\n",
    "\n",
    "print(\"Original Value: \" , substring in superstring)\n",
    "\n",
    "if (len(substring) == 0):\n",
    "    print(\"Empty SubString\")\n",
    "else: \n",
    "    print(substring in superstring)"
   ]
  },
  {
   "cell_type": "code",
   "execution_count": 8,
   "id": "c72f4755",
   "metadata": {},
   "outputs": [
    {
     "name": "stdout",
     "output_type": "stream",
     "text": [
      "A, Ab, Abc, Abcd, b, bc, bcd, c, cd, d, "
     ]
    }
   ],
   "source": [
    "# possible substring\n",
    "def find_all_substrings(input_string):\n",
    "    substrings = []\n",
    "    length = len(input_string)\n",
    "\n",
    "    for i in range(length):\n",
    "        for j in range(i + 1, length + 1):\n",
    "            substrings.append(input_string[i:j])\n",
    "\n",
    "    return substrings\n",
    "input_string = \"Abcd\"\n",
    "substrings = find_all_substrings(input_string)\n",
    "\n",
    "for substring in substrings:\n",
    "    print(substring, end=\", \")\n"
   ]
  },
  {
   "cell_type": "code",
   "execution_count": 9,
   "id": "c951f631",
   "metadata": {},
   "outputs": [
    {
     "name": "stdout",
     "output_type": "stream",
     "text": [
      "The second highest number is: 14\n"
     ]
    }
   ],
   "source": [
    "#second higest number\n",
    "numbers = [10, 13, 14, 7, 4, 31]\n",
    "sorted_numbers = sorted(numbers, reverse=True)\n",
    "second_highest = sorted_numbers[1]\n",
    "\n",
    "print(\"The second highest number is:\", second_highest)\n"
   ]
  },
  {
   "cell_type": "code",
   "execution_count": 10,
   "id": "69cd07ca",
   "metadata": {},
   "outputs": [
    {
     "name": "stdout",
     "output_type": "stream",
     "text": [
      "The most occurring number is: 3\n"
     ]
    }
   ],
   "source": [
    "#occuring number\n",
    "\n",
    "from collections import Counter\n",
    "numbers = [2, 6, 7, 8, 8, 9, 3, 3, 3]\n",
    "number_counts = Counter(numbers)\n",
    "most_common_number, count = number_counts.most_common(1)[0]\n",
    "\n",
    "print(\"The most occurring number is:\", most_common_number)\n"
   ]
  },
  {
   "cell_type": "code",
   "execution_count": 11,
   "id": "11fe491a",
   "metadata": {},
   "outputs": [
    {
     "name": "stdout",
     "output_type": "stream",
     "text": [
      "Hw r y?\n"
     ]
    }
   ],
   "source": [
    "#remove vowels\n",
    "def remove_vowels(input_string):\n",
    "    vowels = \"AEIOUaeiou\"\n",
    "    result = \"\"\n",
    "    for char in input_string:\n",
    "        if char not in vowels:\n",
    "            result += char\n",
    "    return result\n",
    "input_string = \"How are you?\"\n",
    "result_string = remove_vowels(input_string)\n",
    "print(result_string)\n"
   ]
  },
  {
   "cell_type": "code",
   "execution_count": 12,
   "id": "d6f635c7",
   "metadata": {},
   "outputs": [
    {
     "name": "stdout",
     "output_type": "stream",
     "text": [
      "a4b2c1d2a1\n"
     ]
    }
   ],
   "source": [
    "#run length encoding\n",
    "def run_length_encode(input_string):\n",
    "    encoded_string = \"\"\n",
    "    count = 1\n",
    "    if not input_string:\n",
    "        return \"\"\n",
    "    for i in range(1, len(input_string)):\n",
    "        if input_string[i] == input_string[i - 1]:\n",
    "            count += 1\n",
    "        else:\n",
    "            encoded_string += input_string[i - 1] + str(count)\n",
    "            count = 1\n",
    "    encoded_string += input_string[-1] + str(count)\n",
    "    return encoded_string\n",
    "input_string = 'aaaabbcdda'\n",
    "encoded_string = run_length_encode(input_string)\n",
    "print(encoded_string)\n"
   ]
  },
  {
   "cell_type": "code",
   "execution_count": null,
   "id": "dade65a7",
   "metadata": {},
   "outputs": [],
   "source": [
    "#what is pca\n",
    "\n",
    "##PCA, or Principal Component Analysis, is a dimensionality reduction technique used in statistics, machine learning, and data analysis. It's primarily used to simplify the complexity in high-dimensional data while retaining trends and patterns. PCA does this by transforming the original variables into a new set of variables, the principal components, which are orthogonal (uncorrelated) and ordered by their importance in explaining the variance in the data."
   ]
  }
 ],
 "metadata": {
  "kernelspec": {
   "display_name": "Python 3 (ipykernel)",
   "language": "python",
   "name": "python3"
  },
  "language_info": {
   "codemirror_mode": {
    "name": "ipython",
    "version": 3
   },
   "file_extension": ".py",
   "mimetype": "text/x-python",
   "name": "python",
   "nbconvert_exporter": "python",
   "pygments_lexer": "ipython3",
   "version": "3.11.3"
  }
 },
 "nbformat": 4,
 "nbformat_minor": 5
}
