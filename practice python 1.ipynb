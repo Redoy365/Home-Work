{
 "cells": [
  {
   "cell_type": "code",
   "execution_count": 9,
   "id": "ebdedd2b",
   "metadata": {},
   "outputs": [],
   "source": [
    "# Arithmetic operator"
   ]
  },
  {
   "cell_type": "code",
   "execution_count": 7,
   "id": "b56b6de9",
   "metadata": {},
   "outputs": [],
   "source": [
    "# Python - programming lang (instructions)- ML Algorithm - Artificial Intelligence"
   ]
  },
  {
   "cell_type": "code",
   "execution_count": 10,
   "id": "858b1f14",
   "metadata": {},
   "outputs": [
    {
     "data": {
      "text/plain": [
       "4"
      ]
     },
     "execution_count": 10,
     "metadata": {},
     "output_type": "execute_result"
    }
   ],
   "source": [
    "# Addition\n",
    "2+2"
   ]
  },
  {
   "cell_type": "code",
   "execution_count": 11,
   "id": "6b9491e2",
   "metadata": {},
   "outputs": [
    {
     "data": {
      "text/plain": [
       "2"
      ]
     },
     "execution_count": 11,
     "metadata": {},
     "output_type": "execute_result"
    }
   ],
   "source": [
    "# Substraction\n",
    "3-1"
   ]
  },
  {
   "cell_type": "code",
   "execution_count": 12,
   "id": "eadc3f4f",
   "metadata": {},
   "outputs": [
    {
     "data": {
      "text/plain": [
       "14"
      ]
     },
     "execution_count": 12,
     "metadata": {},
     "output_type": "execute_result"
    }
   ],
   "source": [
    "# Multiplication\n",
    "2*7"
   ]
  },
  {
   "cell_type": "code",
   "execution_count": 21,
   "id": "ccafe6b8",
   "metadata": {},
   "outputs": [
    {
     "data": {
      "text/plain": [
       "56.5"
      ]
     },
     "execution_count": 21,
     "metadata": {},
     "output_type": "execute_result"
    }
   ],
   "source": [
    "# Division\n",
    "113/2"
   ]
  },
  {
   "cell_type": "code",
   "execution_count": 15,
   "id": "bcb8e974",
   "metadata": {},
   "outputs": [
    {
     "data": {
      "text/plain": [
       "8"
      ]
     },
     "execution_count": 15,
     "metadata": {},
     "output_type": "execute_result"
    }
   ],
   "source": [
    "# Power\n",
    "2**3"
   ]
  },
  {
   "cell_type": "code",
   "execution_count": 17,
   "id": "5bf58a36",
   "metadata": {},
   "outputs": [
    {
     "data": {
      "text/plain": [
       "3"
      ]
     },
     "execution_count": 17,
     "metadata": {},
     "output_type": "execute_result"
    }
   ],
   "source": [
    "# Remainder\n",
    "13%5"
   ]
  },
  {
   "cell_type": "code",
   "execution_count": 20,
   "id": "15da1ba5",
   "metadata": {},
   "outputs": [
    {
     "data": {
      "text/plain": [
       "56"
      ]
     },
     "execution_count": 20,
     "metadata": {},
     "output_type": "execute_result"
    }
   ],
   "source": [
    "# Floor Division\n",
    "113//2"
   ]
  },
  {
   "cell_type": "code",
   "execution_count": 1,
   "id": "6bc1fb3a",
   "metadata": {},
   "outputs": [],
   "source": [
    "#Variable - temp container - to store value\n",
    "\n",
    "var = 2**3"
   ]
  },
  {
   "cell_type": "code",
   "execution_count": 2,
   "id": "a9f04d93",
   "metadata": {},
   "outputs": [
    {
     "name": "stdout",
     "output_type": "stream",
     "text": [
      "8\n"
     ]
    }
   ],
   "source": [
    "print(var)"
   ]
  },
  {
   "cell_type": "raw",
   "id": "7ae5be8f",
   "metadata": {},
   "source": [
    "1. first char - alphabet (lower,upper)\n",
    "2. we can use number in the variable name - var1\n",
    "3. no space - var_fd (we ca use underscore) - no other special char is allowed - var@(not allowed)\n",
    "4. first char _\n",
    "5. avoid to use python keywords as variablew names"
   ]
  },
  {
   "cell_type": "raw",
   "id": "207b0171",
   "metadata": {},
   "source": [
    "example -\n",
    "\n",
    "my_var\n",
    "variable\n",
    "var123\n",
    "var123new_value\n",
    "MY_var"
   ]
  },
  {
   "cell_type": "markdown",
   "id": "82e4eacf",
   "metadata": {},
   "source": [
    "# Comparison"
   ]
  },
  {
   "cell_type": "code",
   "execution_count": 11,
   "id": "b31f6dba",
   "metadata": {},
   "outputs": [],
   "source": [
    "a = 2\n",
    "b = 2"
   ]
  },
  {
   "cell_type": "code",
   "execution_count": 12,
   "id": "302782e6",
   "metadata": {},
   "outputs": [
    {
     "data": {
      "text/plain": [
       "True"
      ]
     },
     "execution_count": 12,
     "metadata": {},
     "output_type": "execute_result"
    }
   ],
   "source": [
    "a >= b"
   ]
  },
  {
   "cell_type": "code",
   "execution_count": 13,
   "id": "ea2d1489",
   "metadata": {},
   "outputs": [
    {
     "data": {
      "text/plain": [
       "True"
      ]
     },
     "execution_count": 13,
     "metadata": {},
     "output_type": "execute_result"
    }
   ],
   "source": [
    "a <= b"
   ]
  },
  {
   "cell_type": "code",
   "execution_count": 14,
   "id": "15cb25a4",
   "metadata": {},
   "outputs": [
    {
     "data": {
      "text/plain": [
       "True"
      ]
     },
     "execution_count": 14,
     "metadata": {},
     "output_type": "execute_result"
    }
   ],
   "source": [
    "a == b"
   ]
  },
  {
   "cell_type": "code",
   "execution_count": 10,
   "id": "3e8f8733",
   "metadata": {},
   "outputs": [
    {
     "data": {
      "text/plain": [
       "True"
      ]
     },
     "execution_count": 10,
     "metadata": {},
     "output_type": "execute_result"
    }
   ],
   "source": [
    "a!=b"
   ]
  },
  {
   "cell_type": "code",
   "execution_count": null,
   "id": "ad5aa444",
   "metadata": {},
   "outputs": [],
   "source": [
    "# Data Type"
   ]
  },
  {
   "cell_type": "code",
   "execution_count": null,
   "id": "dc836fdf",
   "metadata": {},
   "outputs": [],
   "source": [
    "# int   - 2,6,10,-9,1000000000,-100000000\n",
    "# float  - 1.9,1.0,0.1,-0.9,-8776.3,100000000000.0\n",
    "# string - 'c','hello','Hello world' - '',\"\"\n",
    "# bool - True/False"
   ]
  },
  {
   "cell_type": "code",
   "execution_count": 15,
   "id": "a0ca66b0",
   "metadata": {},
   "outputs": [],
   "source": [
    "my_int = 6"
   ]
  },
  {
   "cell_type": "code",
   "execution_count": 16,
   "id": "635afaa8",
   "metadata": {},
   "outputs": [
    {
     "data": {
      "text/plain": [
       "int"
      ]
     },
     "execution_count": 16,
     "metadata": {},
     "output_type": "execute_result"
    }
   ],
   "source": [
    "type(my_int)"
   ]
  },
  {
   "cell_type": "code",
   "execution_count": 17,
   "id": "2660b8eb",
   "metadata": {},
   "outputs": [],
   "source": [
    "my_float = 9.5"
   ]
  },
  {
   "cell_type": "code",
   "execution_count": 18,
   "id": "73f05b01",
   "metadata": {},
   "outputs": [
    {
     "data": {
      "text/plain": [
       "float"
      ]
     },
     "execution_count": 18,
     "metadata": {},
     "output_type": "execute_result"
    }
   ],
   "source": [
    "type(my_float)"
   ]
  },
  {
   "cell_type": "code",
   "execution_count": 23,
   "id": "a20947e3",
   "metadata": {},
   "outputs": [],
   "source": [
    "my_str = \"h\""
   ]
  },
  {
   "cell_type": "code",
   "execution_count": 24,
   "id": "fac05de6",
   "metadata": {},
   "outputs": [
    {
     "data": {
      "text/plain": [
       "str"
      ]
     },
     "execution_count": 24,
     "metadata": {},
     "output_type": "execute_result"
    }
   ],
   "source": [
    "type(my_str)"
   ]
  },
  {
   "cell_type": "code",
   "execution_count": null,
   "id": "1c5b8f98",
   "metadata": {},
   "outputs": [],
   "source": [
    "# Data Structure"
   ]
  },
  {
   "cell_type": "code",
   "execution_count": null,
   "id": "7ce0639f",
   "metadata": {},
   "outputs": [],
   "source": [
    "# list []\n",
    "# set  {}\n",
    "# tuple ()\n",
    "# dict {}"
   ]
  },
  {
   "cell_type": "code",
   "execution_count": 34,
   "id": "3a5795b9",
   "metadata": {},
   "outputs": [
    {
     "data": {
      "text/plain": [
       "[2, 2, 5, 8, 9, 3.6, 'hello']"
      ]
     },
     "execution_count": 34,
     "metadata": {},
     "output_type": "execute_result"
    }
   ],
   "source": [
    "list1 = [2,2,5,8,9,3.6,'hello']\n",
    "list1"
   ]
  },
  {
   "cell_type": "code",
   "execution_count": 32,
   "id": "c3be2e86",
   "metadata": {},
   "outputs": [
    {
     "data": {
      "text/plain": [
       "list"
      ]
     },
     "execution_count": 32,
     "metadata": {},
     "output_type": "execute_result"
    }
   ],
   "source": [
    "type(list1)"
   ]
  },
  {
   "cell_type": "code",
   "execution_count": 33,
   "id": "e8717317",
   "metadata": {},
   "outputs": [
    {
     "data": {
      "text/plain": [
       "6"
      ]
     },
     "execution_count": 33,
     "metadata": {},
     "output_type": "execute_result"
    }
   ],
   "source": [
    "len(list1)"
   ]
  },
  {
   "cell_type": "code",
   "execution_count": null,
   "id": "13120f9e",
   "metadata": {},
   "outputs": [],
   "source": [
    "# indexing\n",
    "# slicing\n",
    "# ordered\n",
    "# duplicate\n",
    "# mutable (add, remove,concatenate)"
   ]
  },
  {
   "cell_type": "code",
   "execution_count": null,
   "id": "de348a21",
   "metadata": {},
   "outputs": [],
   "source": []
  },
  {
   "cell_type": "code",
   "execution_count": null,
   "id": "46656a3a",
   "metadata": {},
   "outputs": [],
   "source": []
  },
  {
   "cell_type": "code",
   "execution_count": 45,
   "id": "abb1722d",
   "metadata": {},
   "outputs": [
    {
     "data": {
      "text/plain": [
       "[7, 'hello']"
      ]
     },
     "execution_count": 45,
     "metadata": {},
     "output_type": "execute_result"
    }
   ],
   "source": [
    "list1[2:4]  # list1[start_index:end_index+1]"
   ]
  },
  {
   "cell_type": "code",
   "execution_count": 56,
   "id": "002cb6d5",
   "metadata": {},
   "outputs": [
    {
     "data": {
      "text/plain": [
       "[4, 9.0]"
      ]
     },
     "execution_count": 56,
     "metadata": {},
     "output_type": "execute_result"
    }
   ],
   "source": [
    "list1[1::3] # list1[start_index:end_index+1:skip+1]"
   ]
  },
  {
   "cell_type": "code",
   "execution_count": 48,
   "id": "0f7e8109",
   "metadata": {},
   "outputs": [
    {
     "data": {
      "text/plain": [
       "[2, 4, 7, 'hello', 9.0]"
      ]
     },
     "execution_count": 48,
     "metadata": {},
     "output_type": "execute_result"
    }
   ],
   "source": [
    "list1[:]"
   ]
  },
  {
   "cell_type": "code",
   "execution_count": 58,
   "id": "742f04c9",
   "metadata": {},
   "outputs": [],
   "source": [
    "list1 = [1,8,5,8,3,'h',5.0,6.7]"
   ]
  },
  {
   "cell_type": "code",
   "execution_count": null,
   "id": "8325fd3a",
   "metadata": {},
   "outputs": [],
   "source": [
    "[5,8,3,'h',5.0]"
   ]
  },
  {
   "cell_type": "code",
   "execution_count": 59,
   "id": "dce21845",
   "metadata": {},
   "outputs": [
    {
     "data": {
      "text/plain": [
       "[8, 3, 6.7]"
      ]
     },
     "execution_count": 59,
     "metadata": {},
     "output_type": "execute_result"
    }
   ],
   "source": [
    "list1[1:8:3]"
   ]
  },
  {
   "cell_type": "code",
   "execution_count": null,
   "id": "7daa6612",
   "metadata": {},
   "outputs": [],
   "source": []
  },
  {
   "cell_type": "code",
   "execution_count": 43,
   "id": "e6ba0501",
   "metadata": {},
   "outputs": [
    {
     "data": {
      "text/plain": [
       "4"
      ]
     },
     "execution_count": 43,
     "metadata": {},
     "output_type": "execute_result"
    }
   ],
   "source": [
    "list1 = [2,4,7,'hello',9.0]\n",
    "list1[-4]"
   ]
  },
  {
   "cell_type": "code",
   "execution_count": 41,
   "id": "786563cd",
   "metadata": {},
   "outputs": [
    {
     "data": {
      "text/plain": [
       "3"
      ]
     },
     "execution_count": 41,
     "metadata": {},
     "output_type": "execute_result"
    }
   ],
   "source": [
    "list1.index('hello')"
   ]
  },
  {
   "cell_type": "code",
   "execution_count": null,
   "id": "e285d00e",
   "metadata": {},
   "outputs": [],
   "source": []
  },
  {
   "cell_type": "code",
   "execution_count": null,
   "id": "395bf722",
   "metadata": {},
   "outputs": [],
   "source": []
  }
 ],
 "metadata": {
  "kernelspec": {
   "display_name": "Python 3 (ipykernel)",
   "language": "python",
   "name": "python3"
  },
  "language_info": {
   "codemirror_mode": {
    "name": "ipython",
    "version": 3
   },
   "file_extension": ".py",
   "mimetype": "text/x-python",
   "name": "python",
   "nbconvert_exporter": "python",
   "pygments_lexer": "ipython3",
   "version": "3.9.12"
  }
 },
 "nbformat": 4,
 "nbformat_minor": 5
}
